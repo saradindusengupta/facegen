{
 "cells": [
  {
   "cell_type": "code",
   "execution_count": 3,
   "metadata": {},
   "outputs": [],
   "source": [
    "def resample_videos(input_dir, output_dir, target_fps):\n",
    "    import os\n",
    "    import cv2\n",
    "    from tqdm import tqdm\n",
    "    os.makedirs(output_dir, exist_ok=True)\n",
    "\n",
    "    files = os.listdir(input_dir)\n",
    "    print(files)\n",
    "    for file in tqdm(files):\n",
    "        if file.endswith(\".mp4\"):\n",
    "            video_path = os.path.join(input_dir, file)\n",
    "            print(\"Processing file : \", video_path)\n",
    "            cap = cv2.VideoCapture(video_path)\n",
    "\n",
    "            fps = cap.get(cv2.CAP_PROP_FPS)\n",
    "            width = int(cap.get(cv2.CAP_PROP_FRAME_WIDTH))\n",
    "            height = int(cap.get(cv2.CAP_PROP_FRAME_HEIGHT))\n",
    "\n",
    "            out_path = os.path.join(output_dir, file)\n",
    "            out = cv2.VideoWriter(out_path, cv2.VideoWriter_fourcc(*'mp4v'), target_fps, (width, height))\n",
    "\n",
    "            while True:\n",
    "                ret, frame = cap.read()\n",
    "                if not ret:\n",
    "                    break\n",
    "                out.write(frame)\n",
    "\n",
    "            cap.release()\n",
    "            out.release()"
   ]
  },
  {
   "cell_type": "code",
   "execution_count": 4,
   "metadata": {},
   "outputs": [
    {
     "name": "stdout",
     "output_type": "stream",
     "text": [
      "['test23.mp4', 'test11.csv', 'test13.mp4', 'test5.csv', 'test1.csv', 'test23.csv', 'driving_audio_3.wav', 'test24.mp4', 'test20.mp4', 'test25.csv', 'test6.csv', 'test4.csv', 'test7.mp4', 'test9.mp4', 'test18.mp4', 'test19.csv', 'test22.csv', 'test2.csv', 'test10.csv', 'test10.mp4', 'test21.mp4', 'test20.csv', 'test16.csv', 'test15.csv', 'test11.mp4', 'test26.csv', 'test22.mp4', 'test8.mp4', 'test5.mp4', 'test1.mp4', 'test19.mp4', 'test17.mp4', 'driving_audio_6.wav', 'test18.csv', 'test15.mp4', 'driving_audio_1.wav', 'test8.csv', 'test24.csv', 'test14.mp4', 'test26.mp4', 'test9.csv', 'test6.mp4', 'test7.csv', 'test3.csv', 'driving_audio_2.wav', 'driving_audio_4.wav', 'driving_audio_5.wav', 'test16.mp4', 'test3.mp4', 'test21.csv', 'test27.mp4', 'test2.mp4', 'test14.csv', 'test17.csv', 'test12.csv', 'test25.mp4', 'test27.csv', 'test12.mp4', 'test13.csv', 'test4.mp4', '25fps']\n"
     ]
    },
    {
     "name": "stderr",
     "output_type": "stream",
     "text": [
      "  0%|          | 0/61 [00:00<?, ?it/s]"
     ]
    },
    {
     "name": "stdout",
     "output_type": "stream",
     "text": [
      "Processing file :  /home/saradindu/dev/facegen/src/DINet_optimized/asserts/examples/test23.mp4\n"
     ]
    },
    {
     "name": "stderr",
     "output_type": "stream",
     "text": [
      "  2%|▏         | 1/61 [00:03<03:14,  3.24s/it]"
     ]
    },
    {
     "name": "stdout",
     "output_type": "stream",
     "text": [
      "Processing file :  /home/saradindu/dev/facegen/src/DINet_optimized/asserts/examples/test13.mp4\n"
     ]
    },
    {
     "name": "stderr",
     "output_type": "stream",
     "text": [
      "  5%|▍         | 3/61 [00:06<02:01,  2.10s/it]"
     ]
    },
    {
     "name": "stdout",
     "output_type": "stream",
     "text": [
      "Processing file :  /home/saradindu/dev/facegen/src/DINet_optimized/asserts/examples/test24.mp4\n"
     ]
    },
    {
     "name": "stderr",
     "output_type": "stream",
     "text": [
      " 13%|█▎        | 8/61 [00:08<00:41,  1.27it/s]"
     ]
    },
    {
     "name": "stdout",
     "output_type": "stream",
     "text": [
      "Processing file :  /home/saradindu/dev/facegen/src/DINet_optimized/asserts/examples/test20.mp4\n"
     ]
    },
    {
     "name": "stderr",
     "output_type": "stream",
     "text": [
      " 15%|█▍        | 9/61 [00:09<00:42,  1.22it/s]"
     ]
    },
    {
     "name": "stdout",
     "output_type": "stream",
     "text": [
      "Processing file :  /home/saradindu/dev/facegen/src/DINet_optimized/asserts/examples/test7.mp4\n"
     ]
    },
    {
     "name": "stderr",
     "output_type": "stream",
     "text": [
      " 21%|██▏       | 13/61 [00:16<01:02,  1.31s/it]"
     ]
    },
    {
     "name": "stdout",
     "output_type": "stream",
     "text": [
      "Processing file :  /home/saradindu/dev/facegen/src/DINet_optimized/asserts/examples/test9.mp4\n"
     ]
    },
    {
     "name": "stderr",
     "output_type": "stream",
     "text": [
      " 23%|██▎       | 14/61 [00:19<01:15,  1.61s/it]"
     ]
    },
    {
     "name": "stdout",
     "output_type": "stream",
     "text": [
      "Processing file :  /home/saradindu/dev/facegen/src/DINet_optimized/asserts/examples/test18.mp4\n"
     ]
    },
    {
     "name": "stderr",
     "output_type": "stream",
     "text": [
      " 25%|██▍       | 15/61 [00:26<01:57,  2.56s/it]"
     ]
    },
    {
     "name": "stdout",
     "output_type": "stream",
     "text": [
      "Processing file :  /home/saradindu/dev/facegen/src/DINet_optimized/asserts/examples/test10.mp4\n"
     ]
    },
    {
     "name": "stderr",
     "output_type": "stream",
     "text": [
      " 33%|███▎      | 20/61 [00:30<01:04,  1.58s/it]"
     ]
    },
    {
     "name": "stdout",
     "output_type": "stream",
     "text": [
      "Processing file :  /home/saradindu/dev/facegen/src/DINet_optimized/asserts/examples/test21.mp4\n"
     ]
    },
    {
     "name": "stderr",
     "output_type": "stream",
     "text": [
      " 34%|███▍      | 21/61 [00:35<01:21,  2.03s/it]"
     ]
    },
    {
     "name": "stdout",
     "output_type": "stream",
     "text": [
      "Processing file :  /home/saradindu/dev/facegen/src/DINet_optimized/asserts/examples/test11.mp4\n"
     ]
    },
    {
     "name": "stderr",
     "output_type": "stream",
     "text": [
      " 41%|████      | 25/61 [00:38<00:53,  1.48s/it]"
     ]
    },
    {
     "name": "stdout",
     "output_type": "stream",
     "text": [
      "Processing file :  /home/saradindu/dev/facegen/src/DINet_optimized/asserts/examples/test22.mp4\n"
     ]
    },
    {
     "name": "stderr",
     "output_type": "stream",
     "text": [
      " 44%|████▍     | 27/61 [00:40<00:45,  1.34s/it]"
     ]
    },
    {
     "name": "stdout",
     "output_type": "stream",
     "text": [
      "Processing file :  /home/saradindu/dev/facegen/src/DINet_optimized/asserts/examples/test8.mp4\n"
     ]
    },
    {
     "name": "stderr",
     "output_type": "stream",
     "text": [
      " 46%|████▌     | 28/61 [00:40<00:40,  1.21s/it]"
     ]
    },
    {
     "name": "stdout",
     "output_type": "stream",
     "text": [
      "Processing file :  /home/saradindu/dev/facegen/src/DINet_optimized/asserts/examples/test5.mp4\n"
     ]
    },
    {
     "name": "stderr",
     "output_type": "stream",
     "text": [
      " 48%|████▊     | 29/61 [00:44<00:54,  1.71s/it]"
     ]
    },
    {
     "name": "stdout",
     "output_type": "stream",
     "text": [
      "Processing file :  /home/saradindu/dev/facegen/src/DINet_optimized/asserts/examples/test1.mp4\n"
     ]
    },
    {
     "name": "stderr",
     "output_type": "stream",
     "text": [
      " 49%|████▉     | 30/61 [00:47<00:55,  1.80s/it]"
     ]
    },
    {
     "name": "stdout",
     "output_type": "stream",
     "text": [
      "Processing file :  /home/saradindu/dev/facegen/src/DINet_optimized/asserts/examples/test19.mp4\n"
     ]
    },
    {
     "name": "stderr",
     "output_type": "stream",
     "text": [
      " 51%|█████     | 31/61 [00:52<01:16,  2.55s/it]"
     ]
    },
    {
     "name": "stdout",
     "output_type": "stream",
     "text": [
      "Processing file :  /home/saradindu/dev/facegen/src/DINet_optimized/asserts/examples/test17.mp4\n"
     ]
    },
    {
     "name": "stderr",
     "output_type": "stream",
     "text": [
      " 52%|█████▏    | 32/61 [00:56<01:24,  2.90s/it]"
     ]
    },
    {
     "name": "stdout",
     "output_type": "stream",
     "text": [
      "Processing file :  /home/saradindu/dev/facegen/src/DINet_optimized/asserts/examples/test15.mp4\n"
     ]
    },
    {
     "name": "stderr",
     "output_type": "stream",
     "text": [
      " 57%|█████▋    | 35/61 [01:07<01:28,  3.40s/it]"
     ]
    },
    {
     "name": "stdout",
     "output_type": "stream",
     "text": [
      "Processing file :  /home/saradindu/dev/facegen/src/DINet_optimized/asserts/examples/test14.mp4\n"
     ]
    },
    {
     "name": "stderr",
     "output_type": "stream",
     "text": [
      " 64%|██████▍   | 39/61 [01:16<01:00,  2.74s/it]"
     ]
    },
    {
     "name": "stdout",
     "output_type": "stream",
     "text": [
      "Processing file :  /home/saradindu/dev/facegen/src/DINet_optimized/asserts/examples/test26.mp4\n"
     ]
    },
    {
     "name": "stderr",
     "output_type": "stream",
     "text": [
      " 66%|██████▌   | 40/61 [01:27<01:24,  4.03s/it]"
     ]
    },
    {
     "name": "stdout",
     "output_type": "stream",
     "text": [
      "Processing file :  /home/saradindu/dev/facegen/src/DINet_optimized/asserts/examples/test6.mp4\n"
     ]
    },
    {
     "name": "stderr",
     "output_type": "stream",
     "text": [
      " 69%|██████▉   | 42/61 [01:52<02:05,  6.61s/it]"
     ]
    },
    {
     "name": "stdout",
     "output_type": "stream",
     "text": [
      "Processing file :  /home/saradindu/dev/facegen/src/DINet_optimized/asserts/examples/test16.mp4\n"
     ]
    },
    {
     "name": "stderr",
     "output_type": "stream",
     "text": [
      " 79%|███████▊  | 48/61 [02:23<01:15,  5.80s/it]"
     ]
    },
    {
     "name": "stdout",
     "output_type": "stream",
     "text": [
      "Processing file :  /home/saradindu/dev/facegen/src/DINet_optimized/asserts/examples/test3.mp4\n"
     ]
    },
    {
     "name": "stderr",
     "output_type": "stream",
     "text": [
      " 80%|████████  | 49/61 [02:31<01:11,  5.99s/it]"
     ]
    },
    {
     "name": "stdout",
     "output_type": "stream",
     "text": [
      "Processing file :  /home/saradindu/dev/facegen/src/DINet_optimized/asserts/examples/test27.mp4\n"
     ]
    },
    {
     "name": "stderr",
     "output_type": "stream",
     "text": [
      " 84%|████████▎ | 51/61 [02:47<01:04,  6.48s/it]"
     ]
    },
    {
     "name": "stdout",
     "output_type": "stream",
     "text": [
      "Processing file :  /home/saradindu/dev/facegen/src/DINet_optimized/asserts/examples/test2.mp4\n"
     ]
    },
    {
     "name": "stderr",
     "output_type": "stream",
     "text": [
      " 85%|████████▌ | 52/61 [02:47<00:50,  5.61s/it]"
     ]
    },
    {
     "name": "stdout",
     "output_type": "stream",
     "text": [
      "Processing file :  /home/saradindu/dev/facegen/src/DINet_optimized/asserts/examples/test25.mp4\n"
     ]
    },
    {
     "name": "stderr",
     "output_type": "stream",
     "text": [
      " 92%|█████████▏| 56/61 [02:57<00:20,  4.10s/it]"
     ]
    },
    {
     "name": "stdout",
     "output_type": "stream",
     "text": [
      "Processing file :  /home/saradindu/dev/facegen/src/DINet_optimized/asserts/examples/test12.mp4\n"
     ]
    },
    {
     "name": "stderr",
     "output_type": "stream",
     "text": [
      " 95%|█████████▌| 58/61 [03:01<00:10,  3.58s/it]"
     ]
    },
    {
     "name": "stdout",
     "output_type": "stream",
     "text": [
      "Processing file :  /home/saradindu/dev/facegen/src/DINet_optimized/asserts/examples/test4.mp4\n"
     ]
    },
    {
     "name": "stderr",
     "output_type": "stream",
     "text": [
      "100%|██████████| 61/61 [03:03<00:00,  3.00s/it]\n"
     ]
    }
   ],
   "source": [
    "input_dir = \"/home/saradindu/dev/facegen/src/DINet_optimized/asserts/examples\"\n",
    "output_dir = \"/home/saradindu/dev/facegen/src/DINet_optimized/asserts/examples/25fps\"\n",
    "target_fps = 25.0\n",
    "resample_videos(input_dir, output_dir, target_fps)"
   ]
  }
 ],
 "metadata": {
  "kernelspec": {
   "display_name": "Python 3 (ipykernel)",
   "language": "python",
   "name": "python3"
  },
  "language_info": {
   "codemirror_mode": {
    "name": "ipython",
    "version": 3
   },
   "file_extension": ".py",
   "mimetype": "text/x-python",
   "name": "python",
   "nbconvert_exporter": "python",
   "pygments_lexer": "ipython3",
   "version": "3.10.9"
  },
  "orig_nbformat": 4
 },
 "nbformat": 4,
 "nbformat_minor": 2
}
