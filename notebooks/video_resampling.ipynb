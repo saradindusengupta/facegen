{
 "cells": [
  {
   "cell_type": "code",
   "execution_count": 2,
   "metadata": {},
   "outputs": [],
   "source": [
    "def resample_videos(input_dir, output_dir, target_fps):\n",
    "    import os\n",
    "    import cv2\n",
    "    from tqdm import tqdm\n",
    "    os.makedirs(output_dir, exist_ok=True)\n",
    "\n",
    "    files = os.listdir(input_dir)\n",
    "    print(files)\n",
    "    for file in tqdm(files):\n",
    "        if file.endswith(\".mp4\"):\n",
    "            video_path = os.path.join(input_dir, file)\n",
    "            print(\"Processing file : \", video_path)\n",
    "            cap = cv2.VideoCapture(video_path)\n",
    "\n",
    "            fps = cap.get(cv2.CAP_PROP_FPS)\n",
    "            width = int(cap.get(cv2.CAP_PROP_FRAME_WIDTH))\n",
    "            height = int(cap.get(cv2.CAP_PROP_FRAME_HEIGHT))\n",
    "\n",
    "            out_path = os.path.join(output_dir, file)\n",
    "            out = cv2.VideoWriter(out_path, cv2.VideoWriter_fourcc(*'mp4v'), target_fps, (width, height))\n",
    "\n",
    "            while True:\n",
    "                ret, frame = cap.read()\n",
    "                if not ret:\n",
    "                    break\n",
    "                out.write(frame)\n",
    "\n",
    "            cap.release()\n",
    "            out.release()"
   ]
  },
  {
   "cell_type": "code",
   "execution_count": 3,
   "metadata": {},
   "outputs": [
    {
     "name": "stdout",
     "output_type": "stream",
     "text": [
      "['w1-25fps.mp4', 'in2-25fps.mp4', 'in.mp4', 'i3-25fps.mp4', 'w2-25fps.mp4', 'w3-25fps.mp4', 'input_video.csv', '25fps']\n"
     ]
    },
    {
     "name": "stderr",
     "output_type": "stream",
     "text": [
      "  0%|          | 0/8 [00:00<?, ?it/s]"
     ]
    },
    {
     "name": "stdout",
     "output_type": "stream",
     "text": [
      "Processing file :  /home/saradindu/dev/facegen/artifacts/test_videos/w1-25fps.mp4\n"
     ]
    },
    {
     "name": "stderr",
     "output_type": "stream",
     "text": [
      " 12%|█▎        | 1/8 [00:02<00:19,  2.83s/it]"
     ]
    },
    {
     "name": "stdout",
     "output_type": "stream",
     "text": [
      "Processing file :  /home/saradindu/dev/facegen/artifacts/test_videos/in2-25fps.mp4\n"
     ]
    },
    {
     "name": "stderr",
     "output_type": "stream",
     "text": [
      " 25%|██▌       | 2/8 [00:06<00:20,  3.45s/it]"
     ]
    },
    {
     "name": "stdout",
     "output_type": "stream",
     "text": [
      "Processing file :  /home/saradindu/dev/facegen/artifacts/test_videos/in.mp4\n"
     ]
    },
    {
     "name": "stderr",
     "output_type": "stream",
     "text": [
      " 38%|███▊      | 3/8 [00:08<00:12,  2.46s/it]"
     ]
    },
    {
     "name": "stdout",
     "output_type": "stream",
     "text": [
      "Processing file :  /home/saradindu/dev/facegen/artifacts/test_videos/i3-25fps.mp4\n"
     ]
    },
    {
     "name": "stderr",
     "output_type": "stream",
     "text": [
      " 50%|█████     | 4/8 [00:09<00:07,  1.96s/it]"
     ]
    },
    {
     "name": "stdout",
     "output_type": "stream",
     "text": [
      "Processing file :  /home/saradindu/dev/facegen/artifacts/test_videos/w2-25fps.mp4\n"
     ]
    },
    {
     "name": "stderr",
     "output_type": "stream",
     "text": [
      " 62%|██████▎   | 5/8 [00:12<00:07,  2.38s/it]"
     ]
    },
    {
     "name": "stdout",
     "output_type": "stream",
     "text": [
      "Processing file :  /home/saradindu/dev/facegen/artifacts/test_videos/w3-25fps.mp4\n"
     ]
    },
    {
     "name": "stderr",
     "output_type": "stream",
     "text": [
      "100%|██████████| 8/8 [00:14<00:00,  1.76s/it]\n"
     ]
    }
   ],
   "source": [
    "input_dir = \"/home/saradindu/dev/facegen/artifacts/test_videos/\"\n",
    "output_dir = \"/home/saradindu/dev/facegen/artifacts/test_videos/25fps\"\n",
    "target_fps = 25.0\n",
    "resample_videos(input_dir, output_dir, target_fps)"
   ]
  }
 ],
 "metadata": {
  "kernelspec": {
   "display_name": "Python 3 (ipykernel)",
   "language": "python",
   "name": "python3"
  },
  "language_info": {
   "codemirror_mode": {
    "name": "ipython",
    "version": 3
   },
   "file_extension": ".py",
   "mimetype": "text/x-python",
   "name": "python",
   "nbconvert_exporter": "python",
   "pygments_lexer": "ipython3",
   "version": "3.10.9"
  },
  "orig_nbformat": 4
 },
 "nbformat": 4,
 "nbformat_minor": 2
}
